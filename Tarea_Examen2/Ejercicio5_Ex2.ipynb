#Ejercicio 5_ Examen 2
#Geofísica Matemática y Computacional
#Natalia Denise Fuentes Rubio
# 41511929-6

import numpy as np
import matplotlib.pyplot as plt

L = 1 #Longitud del dominio
N = 20 #Numero de incognitas internas
Tmax = 1.0 #Tiempo maximo de simulación
ht = 0.05 #Paso de tiempo
alpha = 2 #Dato físico
h = L / (N +1) #Tamaño de la malla espacial
Nt = int(Tmax / ht) #Número total de pasos en el tiempo
lamb = alpha * ht / h #Parámetro lambda
Tmax = Nt * ht #Tiempo total de simulación
t = np.linspace(0, Tmax , N +2) #Valores de tiempo para cálculos varios
tl = np.linspace(0, Tmax, 100) #Valores de tiempo, prueba para solver
ts=np.linspace(0, (Tmax/2), (N+2)) #Valores de tiempo para cálculo de solución exacata
x = np.linspace(0,L, N+2) #Coordenadas de la malla
op = 1 #Opción para aproximar las condiciones iniciales (op =1, método de Euler, op=2 aproximación cúbica)

if lamb <= 1:
    print('El método es estable')    
else:
    print('El método no es estable, se recalculará ht')
    ht = h/alpha
    lamb = alpha *ht/h
    Nt = int(Tmax/ht)

def f(x):
    """
    Parameters
    ----------
    x : Posición inicial en x

    Returns
    -------
    Forma inicial de la cuerda
    """
    return np.sin(np.pi * x)

def g(x):
    """
    Parameters
    ----------
    x : Posición inicial en x

    Returns
    -------
    Valor de la velocidad inicial.
    """
    return 0

def solExacta(x, t):
    """
    Parameters
    ----------
    x : Posición en x.
    t : Tiempo

    Returns
    -------
    Valor de la solución exacta para un determinado x y t
    """
    return np.sin(np.pi*x)*np.cos(2*t*np.pi)

u = f(x)

def condicionesIniciales(l, ht, u, x, op):
    """
    Parameters
    ----------
    l : Parámetro lambda
    ht : Tamaño de los pasos en el tiempo
    u : 
    x : Posición en x
    op : Parámetro que permite decidir entre usar aproximación de Euler o una 
    de orden cúbico
    Returns
    -------
    w : Cálculo de la condición inicial 
    """
    N = len (u)
    w = np. zeros (N)
    for i in range (1,N -1):
        if op == 1:
            w[i] = u[i] + ht * g(x[i])
        else:
            w[i] = (1 - l **2) * u[i] + 0.5 * l **2 * (u[i +1] + u[i -1]) + ht * g(x[i])
    return w

def tituloGraf(op):
    if op == 1:
        titulo = '$\mathcal{O}(h_t)$'
    else:
        titulo = '$\mathcal{O}(h_t^3)$'
    return titulo

T = tituloGraf(op)        

w = condicionesIniciales(lamb, ht, u, x, op) 
plt.suptitle('Ecuación de onda', fontsize =14)
plt.plot(x, u,'rs--', lw = 2.5, label = " $u_ {i ,0} $")
plt.plot(x, w,'kx--', lw = 2, label = "$u_{i,1} $")
plt.legend()
plt.title('Condiciones iniciales' + str(T), color ='blue', fontsize =12)
plt.ylabel('$u(x,t)$')
plt.xlabel('$x$')
plt.savefig ('Ejercicio5.pdf')


def  solver(u, w, N, x, Nt, l, ts):
    """
    Parameters
    ----------
    u : Función original
    w : Función con condiciones de frontera
    N : Número de total de incógnitas
    x : Coordenadas de la malla
    Nt : Número total de pasos en el tiempo
    l : Parámetro lambda
    ts: Tiempo

    Returns
    -------
    s : Cálculo de la solución numérica
    """
    s = np.zeros(N+2)
    for n in  range(1,N+1):
        for i in  range(1,N+1):
            s[i] = 2 * (1 - l**2) * w[i] + l**2 * (w[i+1] + w[i-1]) - u[i]
        exacta = solExacta(x, ts[n])
        u = w.copy()
        w = s.copy()
        if n==1:
            plt.plot(x, exacta, 'm', label='Exacta')
            plt.plot(x, s, 'ko', label='Numérica')
            plt.legend()
        plt.plot(x, exacta, 'm')
        plt.plot(x, s, 'ko')
    return s

w = condicionesIniciales(lamb, ht, u, x, op) 
s = solver(u, w, N, x, Nt, lamb, ts)







