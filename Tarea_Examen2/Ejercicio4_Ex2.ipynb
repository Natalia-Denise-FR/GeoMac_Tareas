#Ejercicio 4_ Examen 2
#Geofísica Matemática y Computacional
#Natalia Denise Fuentes Rubio
# 41511929-6

import numpy as np
import matplotlib.pyplot as plt

Nt = 32 #Número total de pasos en el tiempo (4, 8, 16, 32)
a = 0 #Tiempo inicial
b = 4 #Tiempo final
y0 = 0.5 #Condición inicial
t = np.linspace(a, b, Nt +1) #Arreglo con valores de tiempo
te = np.arange(1, Nt+1) #Arreglo con valores de tiempo para graficar los errores
tl = np.linspace(0, b, 100) #Arreglo con valores de tiempo para el cálculo de los errores
y_eul = np.zeros(Nt +1) #Arreglo para los valores de la aproximación por Euler
y_rk2 = np.zeros(Nt +1) #Arreglo para los valores de la aproximación por Rugen-Kuta 2
y_rk3 = np.zeros(Nt +1) #Arreglo para los valores de la aproximación por Rugen-Kuta 3
y_rk4 = np.zeros(Nt +1) #Arreglo para los valores de la aproximación por Rugen-Kuta 4
y_eul[0]= y0 #Valor inicial para la aproximación por Euler
y_rk2[0]= y0 #Valor inicial para la aproximación por Rugen-Kuta 2
y_rk3[0]= y0 #Valor inicial para la aproximación por Rugen-Kuta 3
y_rk4[0]= y0 #Valor inicial para la aproximación por Rugen-Kuta 4

def mesh(a, b, Nt):
    """  
    Parameters
    ----------
    a : Tiempo inicial
    b : Tiempo final
    Nt : Número total de pasos en el tiempo

    Returns
    ht : Tamaño de los pasos en el tiempo 
    """
    ht = (b-a) / Nt
    return ht

def f(t, y):
    """
    Parameters
    ----------
    t : Tiempo
    y : Función que depende del tiempo

    Returns
    -------
    Valores para la función dependiente del tiempo

    """
    return y - t**2 +1

def Exacta(t):
    """
    Parameters
    ----------
    t : Tiempo

    Returns
    -------
    Valores para la solución exacta dependiente del tiempo
    """
    return(t+1)**2 - 0.5 * np.exp(t)

def Euler(f, t, w, ht):
    """
    Parameters
    ----------
    f : Función dependiente del tiempo
    t : Tiempo
    w : Función de aproximación
    ht : Tamaño de los pasos en el tiempo

    Returns
    -------
    None.
    """
    for i, val in enumerate(w[0:-1]):
        w[i+1] = w[i] + ht * f(t[i], w[i])
        t[i+1] = t[0] + (i+1) * ht

def RK2(f, t, w, ht):
    """
    Parameters
    ----------
    f : Función dependiente del tiempo
    t : Tiempo
    w : Función de aproximación
    ht : Tamaño de los pasos en el tiempo
    Returns
    -------
    Valores para la aproximación de Runge-Kuta grado 2
    """
    for i , val in enumerate (w [0: -1]):
        k1 = ht * f(t[ i], w[i ])
        w[i +1] = w [i] + ht * f(t [i] + ht * 0.5 , w[i ] + k1 * 0.5)
        t[i +1] = a + (i +1) * ht

def RK3(f, t, w, ht):
    """
    Parameters
    ----------
    f : Función dependiente del tiempo
    t : Tiempo
    w : Función de aproximación
    ht : Tamaño de los pasos en el tiempo

    Returns
    -------
    Valores para la aproximación de Runge-Kuta grado 3
    """
    for i , val in enumerate (w [0: -1]):
        k1 = ht * f(t[i ], w[i ])
        k2 = ht * f(t[i ] + ht /3 , w[i ] + k1 / 3)
        k3 = ht * f(t[i ] + 2 * ht / 3, w[i ] + 2 * k2 / 3)
        w[i +1] = w [i] + ( k1 + 3 * k3 ) / 4
        t[i +1] = a + (i +1) * ht

        
def RK4(f, t, w, ht ):
    """
    Parameters
    ----------
    f : Función dependiente del tiempo
    t : Tiempo
    w : Función de aproximación
    ht : Tamaño de los pasos en el tiempo

    Returns
    -------
    Valores para la aproximación de Runge-Kuta grado 4
    """
    for i, val in enumerate(w[0:-1]):
        k1 = ht * f(t[i], w[i])
        k2 = ht * f(t[i] + ht/2, w[i] + k1/2)
        k3 = ht * f(t[i] + ht/2, w[i] + k2/2)
        k4 = ht * f(t[i] + ht , w[i] + k3)
        w[i +1] = w[i] + (k1 + 2* k2 + 2* k3 + k4) / 6
        t[i +1] = a + (i +1) * ht

ht = mesh (a, b, Nt)
Euler(f, t, y_eul, ht)
RK2(f, t, y_rk2, ht)
RK3(f, t, y_rk3, ht)
RK4(f, t, y_rk4, ht)
yp = Exacta(tl)
yp1 = Exacta(t)
e_eul = np.abs(yp1 - y_eul)
e_rk2 = np.abs(yp1 - y_rk2)
e_rk3 = np.abs(yp1 - y_rk3)
e_rk4 = np.abs(yp1 - y_rk4)
n_error_eul = np.linalg.norm (e_eul, 2)
n_error_rk2 = np.linalg.norm (e_rk2, 2)
n_error_rk3 = np.linalg.norm (e_rk3, 2)
n_error_rk4 = np.linalg.norm (e_rk4, 2)
e_eule = np.delete(e_eul, [0])
e_rk2e = np.delete(e_rk2, [0])
e_rk3e = np.delete(e_rk3, [0])
e_rk4e = np.delete(e_rk4, [0])

Errores = 'E Eul: %1.4f,' % n_error_eul + 'E RK2: %1.4f,' % n_error_rk2 + 'E RK3: %1.4f,' % n_error_rk3 + 'E RK4: %1.4f' % n_error_rk4

f1 = plt.figure()
plt.title('Solución y aproximación Nt=%i' %Nt, x=0.5, y=1.05, fontsize = 16)
plt.suptitle(Errores, x = 0.51, y=0.93, fontsize=12, color = 'blue')
plt.style.use (['Solarize_Light2'])
plt.plot(tl, yp, 'grey', lw = 4)
plt.plot(t, y_eul, 'bv--', lw = 1)
plt.plot(t, y_rk2, 'y^--', lw = 1)
plt.plot(t, y_rk3, 'go--', lw = 1)
plt.plot(t, y_rk4, 'rs--', lw =1)
plt.legend(['Sol. Exacta', 'Euler', 'RK2','RK3', 'RK4'], loc='upper left')
plt.xlabel('t'); plt.ylabel('y(t)')
plt.savefig ('ejercicio4-1.pdf')

f2 = plt.figure()
plt.title('Errores Nt=%i' %Nt, x=0.5, y=1.05, fontsize = 16)
plt.suptitle(Errores, x = 0.51, y=0.93, fontsize=12, color = 'blue')
plt.style.use (['Solarize_Light2'])
plt.yscale('log')
plt.plot(te, e_eule, 'bo-')
plt.plot(te, e_rk2e, 'yo-')
plt.plot(te, e_rk3e, 'go-')
plt.plot(te, e_rk4e, 'ro-')
plt.legend(['Euler', 'RK2', 'RK3' ,'RK4'], loc='upper left')
plt.xlabel('n'); plt.ylabel('Error')
plt.savefig ('ejercicio4-2.pdf')
plt.show()
 