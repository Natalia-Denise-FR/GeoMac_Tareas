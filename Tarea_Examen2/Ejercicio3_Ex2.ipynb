#Ejercicio 3_ Examen 2
#Geofísica Matemática y Computacional
#Natalia Denise Fuentes Rubio
# 41511929-6

import numpy as np
import matplotlib.pyplot as plt

Nt1 = 4 #Número total de pasos en el tiempo
Nt2 = 16 #Número total de pasos en el tiempo
Nt3 = 64 #Número total de pasos en el tiempo 
Tmax = 1 # Tiempo máximo
y0 = 0.01 # Condición inicial 
lam = 10 #Constante de crecimiento
t1 = np.linspace(0, Tmax, Nt1 +1) #Lista para los valores de tiempo para Nt1
t2 = np.linspace(0, Tmax, Nt2 +1) #Lista para los valores de tiempo para Nt2
t3 = np.linspace(0, Tmax, Nt3 +1) #Lista para los valores de tiempo para Nt3
yf1 = np.zeros(Nt1 +1) #Espacio muestral para la aproximanción de Nt1
yf2 = np.zeros(Nt2 +1) #Espacio muestral para la aproximanción de Nt2
yf3 = np.zeros(Nt3 +1) #Espacio muestral para la aproximanción de Nt3
yf1 [0] = y0 #Valor inicial para la lista yf1
yf2 [0] = y0 #Valor inicial para la lista yf2
yf3 [0] = y0 #Valor inicial para la lista yf3

def mesh(a, b, Nt):
    """  
    Parameters
    ----------
    a : Tiempo inicial
    b : Tiempo final
    Nt : Número total de pasos en el tiempo

    Returns
    ht : Tamaño de los pasos en el tiempo
    """
    ht = (b-a) / Nt
    return ht


def exactSolution(t, y0, lam):
    """
    Parameters
    ----------
    t : Tiempo
    y0 : Valor inicial
    lam : Constante de crecimiento

    Returns
    -------
    Los valores para la solución exacta
    """
    return (y0)/(y0+((1-y0)*np.exp((-1*lam)*t)))

def forwardEuler1(y, ht, lam):
    """
    Parameters
    ----------
    y : Función de aproximación que describe la ecuación logística
    ht : Tamaño de los pasos en el tiempo
    lam : Constante de crecimiento

    Returns
    -------
    An : Valores para cada punto aproximados mediante Euler hacia adelante
    """
    A = 1 - (ht*lam)
    An = [A]
    for i, val in enumerate(y[0:-1]):
        y[i+1] = y[i] + ht*lam*y[i] - ht*lam*(y[i]*y[i])
        An.append(An[i] * A)
    return An 


ht1 = mesh(0, Tmax, Nt1)
ht2 = mesh(0, Tmax, Nt2)
ht3 = mesh(0, Tmax, Nt3)
error_f1 = forwardEuler1(yf1, ht1, lam)
error_f2 = forwardEuler1(yf2, ht2, lam)
error_f3 = forwardEuler1(yf3, ht3, lam)
tl = np.linspace(0, Tmax, 100)
y_exacta = exactSolution(tl, y0, lam)
y_exac_p1 = exactSolution(t1, y0, lam)
y_exac_p2 = exactSolution(t2, y0, lam)
y_exac_p3 = exactSolution(t3, y0, lam)
norma_error_f1 = np.linalg.norm(yf1 - y_exac_p1, 2)
norma_error_f2 = np.linalg.norm(yf2 - y_exac_p2, 2)
norma_error_f3 = np.linalg.norm(yf3 - y_exac_p3, 2)


Ecuacion = r'$y(t) = \frac{y_0}{y_0 + (1 - y_0)e^{-\lambda t}}$'

plt.title('Función logística', loc='left', fontsize = 12)
plt.suptitle(Ecuacion, x = 0.7, y=0.98, fontsize=12, color = 'blue')
plt.style.use (['Solarize_Light2'])
plt.plot(tl, y_exacta, 'grey', lw = 3)
plt.plot(t1, yf1, 'C8o--', lw = 1)
plt.plot(t2, yf2, 'g^--', lw= 1)
plt.plot(t3, yf3, 'm+--', lw = 1)
plt.legend(['Sol. Exacta', 'Nt = 4, Error:'+ str(round(norma_error_f1, 5)), 
            'Nt = 16, Error:'+ str(round(norma_error_f2, 5)),
            'Nt = 64, Error:'+ str(round(norma_error_f3, 5))], 
           loc='upper left')
plt.xlabel('t'); plt.ylabel('y(t)')
plt.savefig ('EcuacionLogistica.pdf')
plt.show()

