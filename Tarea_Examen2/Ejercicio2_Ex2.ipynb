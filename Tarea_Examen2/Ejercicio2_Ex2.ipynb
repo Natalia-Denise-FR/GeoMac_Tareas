#Ejercicio 2_ Examen 2
#Geofísica Matemática y Computacional
#Natalia Denise Fuentes Rubio
# 41511929-6

import numpy as np
import matplotlib.pyplot as plt

Nt = 21 #Número total de pasos en el tiempo
Tmax = 10 # Tiempo máximo
y0 = 20 # Condición inicial 
lam = 2 #Constante de decaimineto radioactivo
t = np.linspace(0, Tmax , Nt +1) #Lista con valores de tiempo
yf = np.zeros(Nt +1) #Espacio muestral para el método hacia adeante de Euler
yb = np.zeros(Nt +1) #Espacio muestral para el método hacia atrás de Euler
yf [0] = y0 #Valor inicial en Euler hacia adelante
yb [0] = y0 #Valor inicial en Euler hacia atrás

def mesh(a, b, Nt):
    """  
    Parameters
    ----------
    a : Tiempo inicial
    b : Tiempo final
    Nt : Número total de pasos en el tiempo

    Returns
    ht : Tamaño de los pasos en el timepo
    """
    ht = (b-a) / Nt
    return ht

def exactSolution(t, y0 , lam):
    """
    Parameters
    ----------
    t : Tiempo
    y0 : Condición inicial
    lam : Constante de decaimiento

    Returns
    -------
    El cálculo de la solución exacata
    """
    return y0 * np. exp (- lam * t)

def forwardEuler(y, ht, lam):
    """
    Parameters
    ----------
    y : Función de aproximación que expresa la cantidad de substancia dependiente del tiempo
    ht : Tamaño de los pasos en el tiempo
    lam : Constante de decaimiento radioactivo

    Returns
    -------
    An : Valores para cada punto aproximados mediante Euler hacia adelante
    """
    A = 1 - (ht*lam)
    An = [A]
    for i, val in enumerate(y[0:-1]):
        y[i+1] = A * y[i]
        An.append(An[i] * A)
    return An 

def backwardEuler(y, ht, lam):
    """
    Parameters
    ----------
    y : Función de aproximación que expresa la cantidad de substancia dependiente del tiempo
    ht : Tamaño de los pasos en el tiempo
    lam : Constante de decaimiento radioactivo 

    Returns
    -------
    Bn : Valores para cada punto aproximados mediante Euler hacia atrás
    """
    B = 1 /(1 + ht*lam)
    Bn = [B]
    for i, val in enumerate (y [0: -1]):
        y[i +1] = B * y[i]
        Bn.append(Bn[i] * B)
    return Bn

ht = mesh(0, Tmax , Nt)
error_f = forwardEuler(yf , ht, lam)
error_b = backwardEuler(yb, ht, lam)
tl = np.linspace(0, Tmax, 100)
y_exacta = exactSolution(tl, y0, lam)
y_exac_p = exactSolution(t, y0, lam)
norma_error_f = np.linalg.norm(yf - y_exac_p ,2)
norma_error_b = np.linalg.norm(yb - y_exac_p ,2)
An = forwardEuler(yf, ht, lam)
Bn =  backwardEuler (yb, ht, lam)

Ecuacion = ' $y(t) = y_0 e^{\lambda t}$,' + ' $N_t$ ' + '={}'. format(Nt) +\
    ', $h_t$ ' + '={:03.2f}'. format(ht)
Error = ', Error : FE ={:10.9f}, BE = {:10.9f}'. format(norma_error_f, norma_error_b)
plt.style.use (['Solarize_Light2'])
fig,(ax1,ax2 ) = plt.subplots(2, 1)
fig.suptitle('Decaimiento Radioactivo', fontsize = 14)
ax1.plot(tl, y_exacta, 'g-', lw =3, label ='Sol. Exacta')
ax1.plot(t, yf, 'C7o--', label ='Forward Euler')
ax1.plot(t, yb, 'C6o--', label ='Backward Euler')
ax1.set_title(Ecuacion + Error, fontsize = 12, color ='blue')
ax1.set_xlim(-0.5, t[-1]+0.5)
ax1.set_ylim(-35, 35)
ax1.set_xlabel('$t$')
ax1.set_ylabel('$y(t)$')
ax1.legend(loc='upper right', ncol =1, framealpha =0.75, fancybox =True, fontsize =10)
ax1.grid(color ='w')
nticks = np.arange(1, Nt +1 ,1)
ax2.plot(nticks, An[:-1], 'C7v-', label ='$A^n$')
ax2.plot(nticks, Bn[:-1], 'C6^-', label ='$B^n$')
ax2.set_xlim(-0.5, Nt+0.5)
ax2.set_xticks(nticks)
ax2.set_xlabel('$n$')
ax2.set_ylabel('$A^n$ , $B^n$')
ax2.legend(loc='upper left', ncol=1, framealpha=0.75, fancybox =True, fontsize =10)
ax2.grid(color ='w')
plt.subplots_adjust(hspace = 0.35)
plt.savefig('decaimiento_Nt_{}.pdf'. format (Nt))
plt.show()
