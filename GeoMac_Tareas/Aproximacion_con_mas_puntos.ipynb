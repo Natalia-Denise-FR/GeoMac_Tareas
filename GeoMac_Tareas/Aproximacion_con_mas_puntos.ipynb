{
  "nbformat": 4,
  "nbformat_minor": 0,
  "metadata": {
    "colab": {
      "name": "Aproximacion_con_mas_puntos.ipynb",
      "provenance": []
    },
    "kernelspec": {
      "name": "python3",
      "display_name": "Python 3"
    }
  },
  "cells": [
    {
      "cell_type": "code",
      "metadata": {
        "id": "7kiQcdmyMSfO",
        "outputId": "873a24bd-9a1b-4c05-ec31-6959abf17ee3",
        "colab": {
          "base_uri": "https://localhost:8080/",
          "height": 255
        }
      },
      "source": [
        "#Obtener coeficientes de las matrices\n",
        "\n",
        "import numpy as np\n",
        "#import simpy as sp\n",
        "#from simpy import Matrix\n",
        "\n",
        "h = int(input('Escribe un valor para h: '))\n",
        "x0 = int(input('Escribe un valor para x: '))\n",
        "matrizD = np.array([[1, 1, 1, 0], [0, 1, 2, 1/h], [0, 1, 4, 0]])\n",
        "#print(matriz)\n",
        "matrizD[2] = matrizD[2] - matrizD[1] \n",
        "\n",
        "matrizD[2] = matrizD[2]/2\n",
        "matrizD[0] = matrizD[0] - matrizD[2]\n",
        "matrizD[1] = matrizD[1] - 2*matrizD[2]\n",
        "matrizD[0] = matrizD[1] - matrizD[0]\n",
        "print(matrizD)\n",
        "\n",
        "\n",
        "for fila in matrizD:\n",
        "    print(fila[-1])\n",
        " \n",
        "    \n",
        "matrizd = np.array([[1, 1, 1, 0], [0, 1, 2, -1/h], [0, 1, 4, 0]])\n",
        "#print(matriz)\n",
        "matrizd[2] = matrizd[2] - matrizd[1] \n",
        "\n",
        "matrizd[2] = matrizd[2]/2\n",
        "matrizd[0] = matrizd[0] - matrizd[2]\n",
        "matrizd[1] = matrizd[1] - 2*matrizd[2]\n",
        "matrizd[0] = matrizd[1] - matrizd[0]\n",
        "print(matrizd)   \n",
        "\n",
        "for fila in matrizd:\n",
        "    print(fila[-1])"
      ],
      "execution_count": 58,
      "outputs": [
        {
          "output_type": "stream",
          "text": [
            "Escribe un valor para h: 3\n",
            "Escribe un valor para x: 5\n",
            "[[-1.          0.          0.          0.5       ]\n",
            " [ 0.          1.          0.          0.66666667]\n",
            " [ 0.          0.          1.         -0.16666667]]\n",
            "0.5\n",
            "0.6666666666666666\n",
            "-0.16666666666666666\n",
            "[[-1.          0.          0.         -0.5       ]\n",
            " [ 0.          1.          0.         -0.66666667]\n",
            " [ 0.          0.          1.          0.16666667]]\n",
            "-0.5\n",
            "-0.6666666666666666\n",
            "0.16666666666666666\n"
          ],
          "name": "stdout"
        }
      ]
    },
    {
      "cell_type": "code",
      "metadata": {
        "id": "l6J4vjHLODSX",
        "outputId": "a152f4bc-07a5-4b68-d6e6-da3705108325",
        "colab": {
          "base_uri": "https://localhost:8080/",
          "height": 51
        }
      },
      "source": [
        "#x0 = 1\n",
        "import numpy as np\n",
        "import pandas as pd\n",
        "import matplotlib.pyplot as plt\n",
        "\n",
        "def D_menos(u,x,h):\n",
        "    return ((matrizd[0][-1]*(x0)) + matrizd[1][-1]*(x0-h) - matrizd[2][-1]*(x0-2*h)) \n",
        "\n",
        "def D_max (u,x,h):\n",
        "    return ((-matrizD[0][-1]*(x0)) - matrizD[1][-1]*(x0-h) + matrizD[2][-1]*(x0-2*h)) \n",
        "print((-matrizD[0][-1]*(x0)) - matrizD[1][-1]*(x0-h) + matrizD[2][-1]*(x0-2*h)) \n",
        "print((matrizd[0][-1]*(x0)) + matrizd[1][-1]*(x0-h) - matrizd[2][-1]*(x0-2*h))"
      ],
      "execution_count": 59,
      "outputs": [
        {
          "output_type": "stream",
          "text": [
            "-3.6666666666666665\n",
            "-3.6666666666666665\n"
          ],
          "name": "stdout"
        }
      ]
    },
    {
      "cell_type": "code",
      "metadata": {
        "id": "PwlwjdUZOuC7",
        "outputId": "24a110e1-5a45-430f-8afa-378b107e66ec",
        "colab": {
          "base_uri": "https://localhost:8080/",
          "height": 51
        }
      },
      "source": [
        "edmi = np.fabs( np.cos(x0) - D_menos(np.sin,x0,h) )\n",
        "edmax = np.fabs( np.cos(x0) - D_max(np.sin,x0,h) )\n",
        "print(edmax)\n",
        "print(edmi)\n",
        "# Metemos la información de h y del error en un Dataframe y mostramos el resultado:\n",
        "#Error = pd.DataFrame(np.array([edmi, edmax]).transpose(), columns=[['$D_-$', '$D_+$']])\n",
        "#Error\n"
      ],
      "execution_count": 60,
      "outputs": [
        {
          "output_type": "stream",
          "text": [
            "3.9503288521298927\n",
            "3.9503288521298927\n"
          ],
          "name": "stdout"
        }
      ]
    }
  ]
}