{
  "nbformat": 4,
  "nbformat_minor": 0,
  "metadata": {
    "colab": {
      "name": "Untitled3.ipynb",
      "provenance": []
    },
    "kernelspec": {
      "name": "python3",
      "display_name": "Python 3"
    }
  },
  "cells": [
    {
      "cell_type": "code",
      "metadata": {
        "id": "GNIixzhkZcDE",
        "outputId": "16c6d5d3-4e3f-40c3-9cdf-9793d18ac7d5",
        "colab": {
          "base_uri": "https://localhost:8080/",
          "height": 153
        }
      },
      "source": [
        "import numpy as np\n",
        "import math\n",
        "#Calcular el error absoluto y relativo\n",
        "\n",
        "Ea = np.fabs(np.pi - 22/7)               \n",
        "print ('Error absoluto a', Ea)\n",
        "Er = Ea / np.fabs(np.pi) \n",
        "print ('Error relativo a', Er)         \n",
        "\n",
        "p = math.exp(10)\n",
        "pa = 22000\n",
        "Ea1 = np.fabs(p-pa)               \n",
        "print ('error absoluto b', Ea1)\n",
        "Er1 = Ea1 / p\n",
        "print ('Error relativo b', Er1) \n",
        "\n",
        "\n",
        "p = 10**np.pi\n",
        "pa = 1400\n",
        "Ea2 = np.fabs(p-pa)               \n",
        "print ('error absoluto c',Ea2)\n",
        "Er2 = Ea2 / np.fabs(p) \n",
        "print ('Error relativo c',Er2)   \n",
        "\n",
        "Ea3 = np.fabs(math.factorial(9) - ((np.sqrt(18*np.pi)) *(9/np.exp(1))**9))\n",
        "print ('error absoluto d',Ea3)\n",
        "Er3 = Ea3 / np.fabs(math.factorial(9)) \n",
        "print ('Error relativo d',Er3)"
      ],
      "execution_count": 1,
      "outputs": [
        {
          "output_type": "stream",
          "text": [
            "Error absoluto a 0.0012644892673496777\n",
            "Error relativo a 0.0004024994347707008\n",
            "error absoluto b 26.465794806717895\n",
            "Error relativo b 0.0012015452253333286\n",
            "error absoluto c 14.544268632989315\n",
            "Error relativo c 0.010497822704619136\n",
            "error absoluto d 3343.1271580516477\n",
            "Error relativo d 0.009212762230080598\n"
          ],
          "name": "stdout"
        }
      ]
    },
    {
      "cell_type": "code",
      "metadata": {
        "id": "qRapgS24Zipr",
        "outputId": "d6d7b9ba-14e0-402f-ecf5-531ed090b941",
        "colab": {
          "base_uri": "https://localhost:8080/",
          "height": 51
        }
      },
      "source": [
        "#Taylor\n",
        "import math\n",
        "a = []\n",
        "for i in range(9):\n",
        "  x = ((-1**i)*(5**i)) / math.factorial(i)\n",
        "  a.append(x)\n",
        "\n",
        "print(sum(a))\n",
        "\n",
        "\n",
        "b=[]\n",
        "\n",
        "for i in range (9):\n",
        "  y = math.factorial(i) / (5**i)\n",
        "  b.append(y)\n",
        "\n",
        "print(sum(b))\n",
        "  \n",
        "\n",
        "\n"
      ],
      "execution_count": 25,
      "outputs": [
        {
          "output_type": "stream",
          "text": [
            "-138.30716765873015\n",
            "1.6186112\n"
          ],
          "name": "stdout"
        }
      ]
    },
    {
      "cell_type": "code",
      "metadata": {
        "id": "yhUo1MBGcZW1",
        "outputId": "4e22973b-3b06-47fd-dc2a-ca09d0109304",
        "colab": {
          "base_uri": "https://localhost:8080/",
          "height": 265
        }
      },
      "source": [
        "#Derivadas\n",
        "import numpy as np\n",
        "import matplotlib.pyplot as plt\n",
        "\n",
        "\n",
        "# Función a ser evaluada\n",
        "y = lambda x: (np.pi*(np.exp(1)-1))/2*np.cos((np.pi*x)/2)-np.exp(x)\n",
        "\n",
        "# Dominio de la función\n",
        "xmin = -1\n",
        "xmax = 2\n",
        "x = np.linspace(xmin, xmax, 100)\n",
        "\n",
        "A = 2  # Extremo izquierdo del intervalo\n",
        "B = 4  # Extremo derecho del intervalo\n",
        "\n",
        "# Gráfica de la función\n",
        "plt.plot(x,y(x), 'r-', lw=2)\n",
        "\n",
        "# Líneas verticales en los extremos del intervalo y línea en y = 0\n",
        "ymin = np.min(y(x))\n",
        "ymax = np.max(y(x))\n",
        "plt.plot([A,A], [ymin,ymax], 'g--', lw=1)\n",
        "plt.plot([B,B], [ymin,ymax], 'g--', lw=1)\n",
        "plt.plot([xmin, xmax], [0,0], 'b-', lw=1)\n",
        "\n",
        "plt.grid()\n",
        "plt.show()"
      ],
      "execution_count": 12,
      "outputs": [
        {
          "output_type": "display_data",
          "data": {
            "image/png": "[encoded data removed]",
            "text/plain": [
              "<Figure size 432x288 with 1 Axes>"
            ]
          },
          "metadata": {
            "tags": [],
            "needs_background": "light"
          }
        }
      ]
    },
    {
      "cell_type": "code",
      "metadata": {
        "id": "q6WP76_kdYNI",
        "outputId": "cbff9cf8-d787-4bdc-f152-e602fd51fd30",
        "colab": {
          "base_uri": "https://localhost:8080/",
          "height": 266
        }
      },
      "source": [
        "y = lambda x: np.tan(x) - (1/np.cos(x)) * (x-1) + x*np.sin(np.pi*x)\n",
        "\n",
        "# Dominio de la función\n",
        "xmin = -1\n",
        "xmax = 2\n",
        "x = np.linspace(xmin, xmax, 100)\n",
        "\n",
        "A = 2  # Extremo izquierdo del intervalo\n",
        "B = 4  # Extremo derecho del intervalo\n",
        "\n",
        "# Gráfica de la función\n",
        "plt.plot(x,y(x), 'r-', lw=2)\n",
        "\n",
        "# Líneas verticales en los extremos del intervalo y línea en y = 0\n",
        "ymin = np.min(y(x))\n",
        "ymax = np.max(y(x))\n",
        "plt.plot([A,A], [ymin,ymax], 'g--', lw=1)\n",
        "plt.plot([B,B], [ymin,ymax], 'g--', lw=1)\n",
        "plt.plot([xmin, xmax], [0,0], 'b-', lw=1)\n",
        "\n",
        "plt.grid()\n",
        "plt.show()"
      ],
      "execution_count": 15,
      "outputs": [
        {
          "output_type": "display_data",
          "data": {
            "image/png": "[encoded data removed]",
            "text/plain": [
              "<Figure size 432x288 with 1 Axes>"
            ]
          },
          "metadata": {
            "tags": [],
            "needs_background": "light"
          }
        }
      ]
    },
    {
      "cell_type": "code",
      "metadata": {
        "id": "XS7DRvExhMbl",
        "outputId": "fc7cba58-25b5-4470-f7be-14e2720b9d6b",
        "colab": {
          "base_uri": "https://localhost:8080/",
          "height": 333
        }
      },
      "source": [
        "y = lambda x: np.sin(np.pi*x) + np.pi*x*np.cos(np.pi*x)-np.log(x)- ((x-2)/x)\n",
        "\n",
        "# Dominio de la función\n",
        "xmin = -2\n",
        "xmax = 2\n",
        "x = np.linspace(xmin, xmax, 100)\n",
        "\n",
        "A = 2  # Extremo izquierdo del intervalo\n",
        "B = 4  # Extremo derecho del intervalo\n",
        "\n",
        "# Gráfica de la función\n",
        "plt.plot(x,y(x), 'r-', lw=2)\n",
        "\n",
        "# Líneas verticales en los extremos del intervalo y línea en y = 0\n",
        "ymin = np.min(y(x))\n",
        "ymax = np.max(y(x))\n",
        "plt.plot([A,A], [ymin,ymax], 'g--', lw=1)\n",
        "plt.plot([B,B], [ymin,ymax], 'g--', lw=1)\n",
        "plt.plot([xmin, xmax], [0,0], 'b-', lw=1)\n",
        "\n",
        "plt.grid()\n",
        "plt.show()"
      ],
      "execution_count": 16,
      "outputs": [
        {
          "output_type": "stream",
          "text": [
            "/usr/local/lib/python3.6/dist-packages/ipykernel_launcher.py:1: RuntimeWarning: invalid value encountered in log\n",
            "  \"\"\"Entry point for launching an IPython kernel.\n",
            "/usr/local/lib/python3.6/dist-packages/ipykernel_launcher.py:1: RuntimeWarning: invalid value encountered in log\n",
            "  \"\"\"Entry point for launching an IPython kernel.\n"
          ],
          "name": "stderr"
        },
        {
          "output_type": "display_data",
          "data": {
            "image/png": "[encoded data removed]",
            "text/plain": [
              "<Figure size 432x288 with 1 Axes>"
            ]
          },
          "metadata": {
            "tags": [],
            "needs_background": "light"
          }
        }
      ]
    },
    {
      "cell_type": "code",
      "metadata": {
        "id": "s63GGZQ_hMFu"
      },
      "source": [
        ""
      ],
      "execution_count": null,
      "outputs": []
    }
  ]
}